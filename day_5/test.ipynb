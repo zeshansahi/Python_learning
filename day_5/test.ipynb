{
 "cells": [
  {
   "cell_type": "markdown",
   "metadata": {},
   "source": [
    "### Subjec of the note book\n",
    "### auther by: zeshan\n",
    "### date : 2019-04-30\n",
    "where is the code of [Lec-5](https://github.com/zeshansahi/Python_learning/blob/main/day_5/test.ipynb)\n",
    "Assignment: how to convert ipynb in PDF"
   ]
  },
  {
   "cell_type": "markdown",
   "metadata": {},
   "source": [
    "**Here is the comment**\n",
    "\n",
    "*Extension: Jupeternote book*\n",
    "\n",
    "we can use more the two language here in ipynb"
   ]
  },
  {
   "cell_type": "code",
   "execution_count": 6,
   "metadata": {},
   "outputs": [
    {
     "name": "stdout",
     "output_type": "stream",
     "text": [
      "Hello zeshan sahi\n"
     ]
    }
   ],
   "source": [
    "#code 1\n",
    "name =\"zeshan sahi\"\n",
    "print(\"Hello\",name)"
   ]
  },
  {
   "cell_type": "code",
   "execution_count": 7,
   "metadata": {},
   "outputs": [
    {
     "data": {
      "text/plain": [
       "('alo', 'mathi', 'dhanya', 'chatni')"
      ]
     },
     "execution_count": 7,
     "metadata": {},
     "output_type": "execute_result"
    }
   ],
   "source": [
    "samosa=(\"alo\",\"mathi\",\"dhanya\",\"chatni\")\n",
    "samosa"
   ]
  }
 ],
 "metadata": {
  "kernelspec": {
   "display_name": "Python 3",
   "language": "python",
   "name": "python3"
  },
  "language_info": {
   "codemirror_mode": {
    "name": "ipython",
    "version": 3
   },
   "file_extension": ".py",
   "mimetype": "text/x-python",
   "name": "python",
   "nbconvert_exporter": "python",
   "pygments_lexer": "ipython3",
   "version": "3.10.12"
  }
 },
 "nbformat": 4,
 "nbformat_minor": 2
}
